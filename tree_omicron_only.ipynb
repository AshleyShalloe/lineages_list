{
 "cells": [
  {
   "cell_type": "code",
   "execution_count": null,
   "metadata": {},
   "outputs": [],
   "source": [
    "import pandas as pd\n",
    "import json\n",
    "from urllib.request import urlopen\n",
    "import networkx as nx\n",
    "import matplotlib.pyplot as plt\n",
    "from networkx.drawing.nx_pydot import graphviz_layout"
   ]
  },
  {
   "cell_type": "code",
   "execution_count": null,
   "metadata": {},
   "outputs": [],
   "source": [
    "alias_dict = urlopen(\"https://raw.githubusercontent.com/cov-lineages/pango-designation/master/pango_designation/alias_key.json\")\n",
    "alias_dict = json.loads(\"\".join([x.decode(\"utf-8\").strip() for x in alias_dict]))\n",
    "\n",
    "def unalias_lineage(input_lineage, alias_dict=alias_dict):\n",
    "    isWithdrawn = input_lineage[0] == \"*\"\n",
    "    stem = input_lineage.split(\".\")[0].replace(\"*\", \"\")\n",
    "    rest_of_it = \".\".join(input_lineage.split(\".\")[1:])\n",
    "    if alias_dict.get(stem) and isinstance(alias_dict.get(stem), str):\n",
    "        if isWithdrawn:\n",
    "            return \"*\" + alias_dict[stem] + \".\" + rest_of_it\n",
    "        else:\n",
    "            return alias_dict[stem] + \".\" + rest_of_it\n",
    "    else:\n",
    "        return input_lineage"
   ]
  },
  {
   "cell_type": "code",
   "execution_count": null,
   "metadata": {},
   "outputs": [],
   "source": [
    "in_df = pd.read_json(\n",
    "            \"https://github.com/cov-lineages/lineages-website/raw/master/_data/lineage_data.full.json\",\n",
    "            orient=\"index\"\n",
    "        ).drop([\n",
    "            \"Country counts\", \n",
    "            \"Date\",\n",
    "            \"Travel history\"\n",
    "            ], axis=1)\n",
    "\n",
    "in_df[\"Unaliased\"] = in_df[\"Lineage\"].apply(lambda x: unalias_lineage(x))\n",
    "\n",
    "in_df[\"Countries\"] = in_df[\"Countries\"].apply(lambda x: x.replace(\"_\", \"\\u00A0\"))\n",
    "\n",
    "in_df[\"Earliest date\"] = in_df[\"Earliest date\"].apply(lambda x: x.replace(\"-\", \"\\u2011\"))\n",
    "in_df[\"Latest date\"] = in_df[\"Latest date\"].apply(lambda x: x.replace(\"-\", \"\\u2011\"))\n",
    "\n",
    "in_df = in_df[[\n",
    "                'Lineage',\n",
    "                'Unaliased',\n",
    "                'Countries', \n",
    "                'Earliest date', \n",
    "                'Latest date',\n",
    "                'Number designated', \n",
    "                'Number assigned', \n",
    "                'Description'\n",
    "            ]]\n",
    "\n",
    "in_df"
   ]
  },
  {
   "cell_type": "code",
   "execution_count": null,
   "metadata": {},
   "outputs": [],
   "source": [
    "list_of_withdrawn_lineages = list(\n",
    "    in_df.loc[in_df[\"Lineage\"].str.startswith(\"*\")][\"Lineage\"]\n",
    ")\n",
    "\n",
    "## get just the withdrawn lineages\n",
    "withdrawn_df = in_df.loc[\n",
    "    in_df[\"Lineage\"].isin(list_of_withdrawn_lineages)\n",
    "][[\n",
    "    \"Lineage\",\n",
    "    \"Unaliased\",\n",
    "    \"Description\"\n",
    "]]\n",
    "\n",
    "## get rid of the withdrawn lineages\n",
    "in_df = in_df.loc[\n",
    "    ~in_df[\"Lineage\"].isin(list_of_withdrawn_lineages)\n",
    "    & ~in_df[\"Lineage\"].isin([x.replace(\"*\", \"\") for x in list_of_withdrawn_lineages])\n",
    "]"
   ]
  },
  {
   "cell_type": "code",
   "execution_count": null,
   "metadata": {},
   "outputs": [],
   "source": [
    "in_df = in_df.loc[in_df[\"Unaliased\"].str.startswith(\"B.1.1.529.\")]"
   ]
  },
  {
   "cell_type": "code",
   "execution_count": null,
   "metadata": {},
   "outputs": [],
   "source": [
    "unalias_df = in_df\n",
    "\n",
    "unalias_df[\"period_count\"] = unalias_df[\"Unaliased\"].apply(lambda x: x.count(\".\"))\n",
    "\n",
    "unalias_df[\"parent\"] = unalias_df[\"Unaliased\"].apply(lambda x: \".\".join(x.split(\".\")[:-1]) if \".\" in x else \"B.1.1.529\")\n",
    "\n",
    "unalias_df = pd.merge(\n",
    "    unalias_df,\n",
    "    unalias_df[[\"Lineage\", \"Unaliased\"]].rename({\"Lineage\": \"realiased_parent\", \"Unaliased\": \"ua_lookup\"}, axis=1),\n",
    "    left_on=\"parent\",\n",
    "    right_on=\"ua_lookup\",\n",
    "    how=\"left\"\n",
    ").drop(\"ua_lookup\", axis=1)\n",
    "\n",
    "unalias_df[\"realiased_parent\"] = unalias_df[\"realiased_parent\"].fillna(\"B.1.1.529\")\n",
    "\n",
    "unalias_df\n"
   ]
  },
  {
   "cell_type": "code",
   "execution_count": null,
   "metadata": {},
   "outputs": [],
   "source": [
    "test = nx.DiGraph()\n",
    "\n",
    "test.add_edges_from(unalias_df[[\"realiased_parent\", \"Lineage\"]].to_records(index=False))\n",
    "\n",
    "fig = plt.figure(1, figsize=(100,100), dpi=80)\n",
    "\n",
    "pos = graphviz_layout(\n",
    "    test, \n",
    "    prog=\"twopi\", \n",
    "    root=\"B.1.1.529\"\n",
    ")\n",
    "\n",
    "nx.draw_networkx(\n",
    "    test,\n",
    "    pos\n",
    ")\n"
   ]
  }
 ],
 "metadata": {
  "kernelspec": {
   "display_name": "Python 3.10.8 64-bit",
   "language": "python",
   "name": "python3"
  },
  "language_info": {
   "codemirror_mode": {
    "name": "ipython",
    "version": 3
   },
   "file_extension": ".py",
   "mimetype": "text/x-python",
   "name": "python",
   "nbconvert_exporter": "python",
   "pygments_lexer": "ipython3",
   "version": "3.10.8"
  },
  "vscode": {
   "interpreter": {
    "hash": "b0fa6594d8f4cbf19f97940f81e996739fb7646882a419484c72d19e05852a7e"
   }
  }
 },
 "nbformat": 4,
 "nbformat_minor": 2
}
